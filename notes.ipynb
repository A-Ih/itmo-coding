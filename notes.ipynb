{
 "cells": [
  {
   "cell_type": "code",
   "execution_count": 1,
   "metadata": {},
   "outputs": [
    {
     "name": "stdout",
     "output_type": "stream",
     "text": [
      "Collecting galois\n",
      "  Downloading galois-0.3.5-py3-none-any.whl (4.2 MB)\n",
      "\u001b[2K     \u001b[90m━━━━━━━━━━━━━━━━━━━━━━━━━━━━━━━━━━━━━━━━\u001b[0m \u001b[32m4.2/4.2 MB\u001b[0m \u001b[31m19.4 MB/s\u001b[0m eta \u001b[36m0:00:00\u001b[0m00:01\u001b[0m00:01\u001b[0m\n",
      "\u001b[?25hRequirement already satisfied: numpy<1.25,>=1.21.0 in /home/ahmad/.venv/lib/python3.10/site-packages (from galois) (1.23.5)\n",
      "Collecting numba<0.58,>=0.55 (from galois)\n",
      "  Downloading numba-0.57.1-cp310-cp310-manylinux2014_x86_64.manylinux_2_17_x86_64.whl (3.6 MB)\n",
      "\u001b[2K     \u001b[90m━━━━━━━━━━━━━━━━━━━━━━━━━━━━━━━━━━━━━━━━\u001b[0m \u001b[32m3.6/3.6 MB\u001b[0m \u001b[31m61.1 MB/s\u001b[0m eta \u001b[36m0:00:00\u001b[0m:00:01\u001b[0m\n",
      "\u001b[?25hRequirement already satisfied: typing-extensions>=4.0.0 in /home/ahmad/.venv/lib/python3.10/site-packages (from galois) (4.6.3)\n",
      "Collecting llvmlite<0.41,>=0.40.0dev0 (from numba<0.58,>=0.55->galois)\n",
      "  Downloading llvmlite-0.40.1-cp310-cp310-manylinux_2_17_x86_64.manylinux2014_x86_64.whl (42.1 MB)\n",
      "\u001b[2K     \u001b[90m━━━━━━━━━━━━━━━━━━━━━━━━━━━━━━━━━━━━━━━━\u001b[0m \u001b[32m42.1/42.1 MB\u001b[0m \u001b[31m16.5 MB/s\u001b[0m eta \u001b[36m0:00:00\u001b[0m00:01\u001b[0m00:01\u001b[0m\n",
      "\u001b[?25hInstalling collected packages: llvmlite, numba, galois\n",
      "Successfully installed galois-0.3.5 llvmlite-0.40.1 numba-0.57.1\n",
      "\n",
      "\u001b[1m[\u001b[0m\u001b[34;49mnotice\u001b[0m\u001b[1;39;49m]\u001b[0m\u001b[39;49m A new release of pip is available: \u001b[0m\u001b[31;49m23.1.2\u001b[0m\u001b[39;49m -> \u001b[0m\u001b[32;49m23.2.1\u001b[0m\n",
      "\u001b[1m[\u001b[0m\u001b[34;49mnotice\u001b[0m\u001b[1;39;49m]\u001b[0m\u001b[39;49m To update, run: \u001b[0m\u001b[32;49mpip install --upgrade pip\u001b[0m\n"
     ]
    }
   ],
   "source": [
    "!pip install galois"
   ]
  },
  {
   "cell_type": "code",
   "execution_count": 1,
   "metadata": {},
   "outputs": [
    {
     "name": "stdout",
     "output_type": "stream",
     "text": [
      "Requirement already satisfied: pip in /home/ahmad/.venv/lib/python3.10/site-packages (23.2.1)\n"
     ]
    }
   ],
   "source": [
    "!pip install --upgrade pip"
   ]
  },
  {
   "cell_type": "code",
   "execution_count": 5,
   "metadata": {},
   "outputs": [
    {
     "name": "stdout",
     "output_type": "stream",
     "text": [
      "Collecting pytest\n",
      "  Obtaining dependency information for pytest from https://files.pythonhosted.org/packages/df/d0/e192c4275aecabf74faa1aacd75ef700091913236ec78b1a98f62a2412ee/pytest-7.4.2-py3-none-any.whl.metadata\n",
      "  Downloading pytest-7.4.2-py3-none-any.whl.metadata (7.9 kB)\n",
      "Collecting ipytest\n",
      "  Obtaining dependency information for ipytest from https://files.pythonhosted.org/packages/fb/78/1891c3c5eb195ad7f41f50d38631a39d398fa9649a4fcd07d7101d7b2e06/ipytest-0.13.3-py3-none-any.whl.metadata\n",
      "  Downloading ipytest-0.13.3-py3-none-any.whl.metadata (15 kB)\n",
      "Collecting iniconfig (from pytest)\n",
      "  Downloading iniconfig-2.0.0-py3-none-any.whl (5.9 kB)\n",
      "Requirement already satisfied: packaging in /home/ahmad/.venv/lib/python3.10/site-packages (from pytest) (23.1)\n",
      "Collecting pluggy<2.0,>=0.12 (from pytest)\n",
      "  Obtaining dependency information for pluggy<2.0,>=0.12 from https://files.pythonhosted.org/packages/05/b8/42ed91898d4784546c5f06c60506400548db3f7a4b3fb441cba4e5c17952/pluggy-1.3.0-py3-none-any.whl.metadata\n",
      "  Downloading pluggy-1.3.0-py3-none-any.whl.metadata (4.3 kB)\n",
      "Requirement already satisfied: exceptiongroup>=1.0.0rc8 in /home/ahmad/.venv/lib/python3.10/site-packages (from pytest) (1.1.1)\n",
      "Collecting tomli>=1.0.0 (from pytest)\n",
      "  Using cached tomli-2.0.1-py3-none-any.whl (12 kB)\n",
      "Requirement already satisfied: ipython in /home/ahmad/.venv/lib/python3.10/site-packages (from ipytest) (8.13.2)\n",
      "Requirement already satisfied: backcall in /home/ahmad/.venv/lib/python3.10/site-packages (from ipython->ipytest) (0.2.0)\n",
      "Requirement already satisfied: decorator in /home/ahmad/.venv/lib/python3.10/site-packages (from ipython->ipytest) (5.1.1)\n",
      "Requirement already satisfied: jedi>=0.16 in /home/ahmad/.venv/lib/python3.10/site-packages (from ipython->ipytest) (0.18.2)\n",
      "Requirement already satisfied: matplotlib-inline in /home/ahmad/.venv/lib/python3.10/site-packages (from ipython->ipytest) (0.1.6)\n",
      "Requirement already satisfied: pickleshare in /home/ahmad/.venv/lib/python3.10/site-packages (from ipython->ipytest) (0.7.5)\n",
      "Requirement already satisfied: prompt-toolkit!=3.0.37,<3.1.0,>=3.0.30 in /home/ahmad/.venv/lib/python3.10/site-packages (from ipython->ipytest) (3.0.38)\n",
      "Requirement already satisfied: pygments>=2.4.0 in /home/ahmad/.venv/lib/python3.10/site-packages (from ipython->ipytest) (2.15.1)\n",
      "Requirement already satisfied: stack-data in /home/ahmad/.venv/lib/python3.10/site-packages (from ipython->ipytest) (0.6.2)\n",
      "Requirement already satisfied: traitlets>=5 in /home/ahmad/.venv/lib/python3.10/site-packages (from ipython->ipytest) (5.9.0)\n",
      "Requirement already satisfied: pexpect>4.3 in /home/ahmad/.venv/lib/python3.10/site-packages (from ipython->ipytest) (4.8.0)\n",
      "Requirement already satisfied: parso<0.9.0,>=0.8.0 in /home/ahmad/.venv/lib/python3.10/site-packages (from jedi>=0.16->ipython->ipytest) (0.8.3)\n",
      "Requirement already satisfied: ptyprocess>=0.5 in /home/ahmad/.venv/lib/python3.10/site-packages (from pexpect>4.3->ipython->ipytest) (0.7.0)\n",
      "Requirement already satisfied: wcwidth in /home/ahmad/.venv/lib/python3.10/site-packages (from prompt-toolkit!=3.0.37,<3.1.0,>=3.0.30->ipython->ipytest) (0.2.6)\n",
      "Requirement already satisfied: executing>=1.2.0 in /home/ahmad/.venv/lib/python3.10/site-packages (from stack-data->ipython->ipytest) (1.2.0)\n",
      "Requirement already satisfied: asttokens>=2.1.0 in /home/ahmad/.venv/lib/python3.10/site-packages (from stack-data->ipython->ipytest) (2.2.1)\n",
      "Requirement already satisfied: pure-eval in /home/ahmad/.venv/lib/python3.10/site-packages (from stack-data->ipython->ipytest) (0.2.2)\n",
      "Requirement already satisfied: six in /home/ahmad/.venv/lib/python3.10/site-packages (from asttokens>=2.1.0->stack-data->ipython->ipytest) (1.16.0)\n",
      "Downloading pytest-7.4.2-py3-none-any.whl (324 kB)\n",
      "\u001b[2K   \u001b[90m━━━━━━━━━━━━━━━━━━━━━━━━━━━━━━━━━━━━━━━━\u001b[0m \u001b[32m324.5/324.5 kB\u001b[0m \u001b[31m2.0 MB/s\u001b[0m eta \u001b[36m0:00:00\u001b[0ma \u001b[36m0:00:01\u001b[0m\n",
      "\u001b[?25hDownloading ipytest-0.13.3-py3-none-any.whl (14 kB)\n",
      "Downloading pluggy-1.3.0-py3-none-any.whl (18 kB)\n",
      "Installing collected packages: tomli, pluggy, iniconfig, pytest, ipytest\n",
      "Successfully installed iniconfig-2.0.0 ipytest-0.13.3 pluggy-1.3.0 pytest-7.4.2 tomli-2.0.1\n"
     ]
    }
   ],
   "source": [
    "!pip install pytest ipytest"
   ]
  },
  {
   "cell_type": "code",
   "execution_count": 11,
   "metadata": {},
   "outputs": [],
   "source": [
    "import galois\n",
    "import numpy as np\n",
    "import pytest\n",
    "import ipytest\n",
    "ipytest.autoconfig()"
   ]
  },
  {
   "cell_type": "code",
   "execution_count": 14,
   "metadata": {},
   "outputs": [
    {
     "name": "stdout",
     "output_type": "stream",
     "text": [
      "\u001b[32m.\u001b[0m\u001b[32m.\u001b[0m\u001b[32m.\u001b[0m\u001b[32m.\u001b[0m\u001b[32m                                                                                         [100%]\u001b[0m\n",
      "\u001b[32m\u001b[32m\u001b[1m4 passed\u001b[0m\u001b[32m in 0.02s\u001b[0m\u001b[0m\n"
     ]
    }
   ],
   "source": [
    "# %%ipytest\n",
    "\n",
    "# @pytest.mark.parametrize(\n",
    "#     \"string,matrix\", \n",
    "#     [\n",
    "#         (\"000\", [[0, 0, 0]]), \n",
    "#         (\"111 111\", [[1, 1, 1], [1, 1, 1]]),\n",
    "#         (\"0\\n0\\n0\", [[0], [0], [0]]),\n",
    "#         (\"01\\n 10 \\n 01\", [[0, 1], [1, 0], [0, 1]]),\n",
    "#     ]\n",
    "# )\n",
    "# def test_string_to_matrix(string: str, matrix: [[int]]) -> None:\n",
    "#     assert string_to_matrix(string) == matrix"
   ]
  },
  {
   "cell_type": "code",
   "execution_count": 52,
   "metadata": {},
   "outputs": [],
   "source": [
    "import utils\n",
    "\n",
    "x = galois.GF2(utils.string_to_matrix(\n",
    "'''\n",
    "00001111\n",
    "11110000\n",
    "11001100                    \n",
    "00110011\n",
    "00000000\n",
    "00111100\n",
    "11111111\n",
    "11000011\n",
    "'''))"
   ]
  },
  {
   "cell_type": "code",
   "execution_count": 46,
   "metadata": {},
   "outputs": [
    {
     "data": {
      "text/plain": [
       "3"
      ]
     },
     "execution_count": 46,
     "metadata": {},
     "output_type": "execute_result"
    }
   ],
   "source": [
    "# Requirements for a set of vectors to be a linear block code\n",
    "# 1) Is a linear subspace in GF(2)^n (=> has a neutral element = 0)\n",
    "# 2) Has a rank of log_2(n)=3\n",
    "\n",
    "np.linalg.matrix_rank(x)"
   ]
  },
  {
   "cell_type": "code",
   "execution_count": 47,
   "metadata": {},
   "outputs": [
    {
     "data": {
      "text/plain": [
       "<module 'utils' from '/home/ahmad/term-7/coding/utils.py'>"
      ]
     },
     "execution_count": 47,
     "metadata": {},
     "output_type": "execute_result"
    }
   ],
   "source": [
    "import importlib\n",
    "importlib.reload(utils)"
   ]
  },
  {
   "cell_type": "code",
   "execution_count": 53,
   "metadata": {},
   "outputs": [
    {
     "data": {
      "text/plain": [
       "GF([[0, 0, 0, 0, 1, 1, 1, 1],\n",
       "    [1, 1, 1, 1, 0, 0, 0, 0],\n",
       "    [1, 1, 0, 0, 1, 1, 0, 0],\n",
       "    [0, 0, 1, 1, 0, 0, 1, 1],\n",
       "    [0, 0, 0, 0, 0, 0, 0, 0],\n",
       "    [0, 0, 1, 1, 1, 1, 0, 0],\n",
       "    [1, 1, 1, 1, 1, 1, 1, 1],\n",
       "    [1, 1, 0, 0, 0, 0, 1, 1]], order=2)"
      ]
     },
     "execution_count": 53,
     "metadata": {},
     "output_type": "execute_result"
    }
   ],
   "source": [
    "x"
   ]
  },
  {
   "cell_type": "code",
   "execution_count": 55,
   "metadata": {},
   "outputs": [
    {
     "data": {
      "text/plain": [
       "GF([1, 1, 1, 1, 0, 0, 0, 0], order=2)"
      ]
     },
     "execution_count": 55,
     "metadata": {},
     "output_type": "execute_result"
    }
   ],
   "source": [
    "x[0] + x[1] + x[0]"
   ]
  },
  {
   "cell_type": "code",
   "execution_count": 151,
   "metadata": {},
   "outputs": [
    {
     "data": {
      "text/plain": [
       "GF([[1, 1, 0, 0, 0, 0, 1, 1],\n",
       "    [0, 0, 1, 1, 0, 0, 1, 1],\n",
       "    [0, 0, 0, 0, 1, 1, 1, 1],\n",
       "    [0, 0, 0, 0, 0, 0, 0, 0],\n",
       "    [0, 0, 0, 0, 0, 0, 0, 0],\n",
       "    [0, 0, 0, 0, 0, 0, 0, 0],\n",
       "    [0, 0, 0, 0, 0, 0, 0, 0],\n",
       "    [0, 0, 0, 0, 0, 0, 0, 0]], order=2)"
      ]
     },
     "execution_count": 151,
     "metadata": {},
     "output_type": "execute_result"
    }
   ],
   "source": [
    "utils.row_echelon_form(x)\n"
   ]
  },
  {
   "cell_type": "code",
   "execution_count": 138,
   "metadata": {},
   "outputs": [
    {
     "data": {
      "text/plain": [
       "GF([[1, 1, 0, 0, 0, 0, 1, 1],\n",
       "    [0, 0, 1, 1, 0, 0, 1, 1],\n",
       "    [0, 0, 0, 0, 0, 0, 0, 0],\n",
       "    [0, 0, 0, 0, 0, 0, 0, 0],\n",
       "    [0, 0, 0, 0, 0, 0, 0, 0],\n",
       "    [0, 0, 0, 0, 0, 0, 0, 0],\n",
       "    [0, 0, 0, 0, 0, 0, 0, 0],\n",
       "    [0, 0, 0, 0, 1, 1, 1, 1]], order=2)"
      ]
     },
     "execution_count": 138,
     "metadata": {},
     "output_type": "execute_result"
    }
   ],
   "source": []
  },
  {
   "cell_type": "code",
   "execution_count": 83,
   "metadata": {},
   "outputs": [
    {
     "data": {
      "text/plain": [
       "GF([[0, 0, 0, 0, 1, 1, 1, 1],\n",
       "    [1, 1, 1, 1, 0, 0, 0, 0],\n",
       "    [1, 1, 0, 0, 1, 1, 0, 0],\n",
       "    [0, 0, 1, 1, 0, 0, 1, 1],\n",
       "    [0, 0, 0, 0, 0, 0, 0, 0],\n",
       "    [0, 0, 1, 1, 1, 1, 0, 0],\n",
       "    [1, 1, 1, 1, 1, 1, 1, 1],\n",
       "    [1, 1, 0, 0, 0, 0, 1, 1]], order=2)"
      ]
     },
     "execution_count": 83,
     "metadata": {},
     "output_type": "execute_result"
    }
   ],
   "source": [
    "x"
   ]
  },
  {
   "cell_type": "code",
   "execution_count": null,
   "metadata": {},
   "outputs": [],
   "source": []
  }
 ],
 "metadata": {
  "kernelspec": {
   "display_name": ".venv",
   "language": "python",
   "name": "python3"
  },
  "language_info": {
   "codemirror_mode": {
    "name": "ipython",
    "version": 3
   },
   "file_extension": ".py",
   "mimetype": "text/x-python",
   "name": "python",
   "nbconvert_exporter": "python",
   "pygments_lexer": "ipython3",
   "version": "3.10.12"
  },
  "orig_nbformat": 4
 },
 "nbformat": 4,
 "nbformat_minor": 2
}
